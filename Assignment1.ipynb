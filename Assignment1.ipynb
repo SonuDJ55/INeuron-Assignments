{
 "cells": [
  {
   "cell_type": "markdown",
   "id": "00f13f7a-0157-49c6-a82f-09fe52420dda",
   "metadata": {},
   "source": [
    "Q1) What is the primary goal of Object-Oriented Programming (OOP)?\n",
    "\n",
    "Ans: The primary goal of Object-Oriented Programming (OOP) is to structure code using objects, which are instances of classes. \n",
    "OOP allow user to create class which act as blueprint and contians attribute and method to perform certain action. \n",
    "OOP allow us to do modular coding.\n",
    "OOP allow user to create class which act as blueprint and contians attribute and method to perform certain action. \n",
    "Also OOP allow us to do modular coding,make code reusable. \n",
    "Examples of OOPS are class, Inheritance,Polymorphisam,Encapsulation etc. "
   ]
  },
  {
   "cell_type": "markdown",
   "id": "02b51746-68f7-4cbd-a16e-7b8135f78c3b",
   "metadata": {},
   "source": [
    "Q2) What is an object in Python?\n",
    "Ans:- Objects are instance of a class which contains all methods and function which are defined in original class. Each object has its own state but shares the behavior defined by the class.\n",
    "E.g:- class addition(x,y):                  \n",
    "          def __init__(self,x,y):\n",
    "              self.x= x\n",
    "              self.y= y\n",
    "         \n",
    "          def get_sum(self):\n",
    "              summation=x+y\n",
    "              return summation\n",
    "          \n",
    "---- Creating an object of the Addition class -------\n",
    "addition1 = Addition(10, 20)"
   ]
  },
  {
   "cell_type": "markdown",
   "id": "d64a2d27-3ad1-443e-9b05-3f1c30c6b1cd",
   "metadata": {},
   "source": [
    "Q3) What is a class in Python?\n",
    "Ans:- class is one of the OOPS concept. Class is defined by keyword 'class' in python. Class is blueprint which contain paramenter / attributes and funtions writen in it. This attributes and funtions describe behaviour of class. A class allows code reusability, modularity, and organization in object-oriented programming. \n",
    "E.g:\n",
    "class car:\n",
    "    def __init__(self,brand,model):\n",
    "        self.brand = brand\n",
    "        self.model = model\n",
    "        \n",
    "    def display_info(self):\n",
    "        return f'The brand is {se;f.brand} and model is {self.model}'\n",
    "\n",
    "car1 = car(\"BMW\",\"XM5\")\n",
    "\n",
    "In above example car is class has attributes brand and model , this class also dispaly_info method which displays information in f string. BMW is stored in brand attribute and XM5 is stored in model attribute. "
   ]
  },
  {
   "cell_type": "markdown",
   "id": "cb028ac8-25d6-4dff-b6e8-87276afe7cd7",
   "metadata": {},
   "source": [
    "Q4) What are attributes and methods in a class?\n",
    "Ans:- Methods and attribut are define properties and behaviour of class.\n",
    "attribute store data of object in class where as functions/methods describe the behavior of an object and can manipulate its attributes.\n",
    "For example if bank is class then:\n",
    "Attributes are: Account holder name, IFSC Code, Account number, Mobilenumber,EMail etc.\n",
    "Methods are: Withdraw, Deposite, transfer of fund"
   ]
  },
  {
   "cell_type": "markdown",
   "id": "da23a00c-f185-4eca-ad15-9dd141bd805b",
   "metadata": {},
   "source": [
    "Q5) What is the difference between class variables and instance variables in Python?\n",
    "Ans: class varibale are defined inside class but outside method where as instance varible are defined inside method.\n",
    "class varibables are shared by all instace of class where instance variable are unqiue to to each instacne of class.\n",
    "change in classs variable will afffect all instacne of class where as instance varible is affect only that instance of class where it has been called.\n",
    "E.g: class School:\n",
    "        school_name = \"IMS Solapur\"        # This is class varibale \n",
    "\n",
    "        def __init__(self,std_name,std_roll):\n",
    "            self.std_name = std_name             # This is instace variable\n",
    "            self.std_roll = std_roll             # This is instace variable\n",
    "        def dis_info():\n",
    "            info = print(f'Name of student is {self.std_name} and roll number is {self.std_roll} and belonds to {School.school_name}')\n",
    "            return info\n",
    "    \n",
    "student1= school(\"Dhiraj\", 24)\n",
    "print(student1.dis_info())\n"
   ]
  },
  {
   "cell_type": "markdown",
   "id": "e8f1b970-671b-4a61-a5a9-efddee807088",
   "metadata": {},
   "source": [
    "Q6) What is the purpose of the self parameter in Python class methods?\n",
    "Ans: The self parameter refers to instance of class when its is called. This allows us to access the instance varibale and method of class.The self parameter is crucial for instance methods to access and manipulate object-specific data. Without it, the method would not know which object’s attributes to reference."
   ]
  },
  {
   "cell_type": "markdown",
   "id": "f46ea95a-9280-48f1-904e-c510a6ff913e",
   "metadata": {},
   "source": [
    "Q7) For a library management system, you have to design the \"Book\" class with OOP\n",
    "principles in mind. The “Book” class will have following attributes:\n",
    "a. title: Represents the title of the book.\n",
    "b. author: Represents the author(s) of the book.\n",
    "c. isbn: Represents the ISBN (International Standard Book Number) of the book.\n",
    "d. publication_year: Represents the year of publication of the book.\n",
    "e. available_copies: Represents the number of copies available for checkout.\n",
    "The class will also include the following methods:\n",
    "a. check_out(self): Decrements the available copies by one if there are copies\n",
    "available for checkout.\n",
    "b. return_book(self): Increments the available copies by one when a book is\n",
    "returned.\n",
    "c. display_book_info(self): Displays the information about the book, including its\n",
    "attributes and the number of available copies."
   ]
  },
  {
   "cell_type": "code",
   "execution_count": 68,
   "id": "06488cb9-0805-44c7-8df9-b0a544f39dee",
   "metadata": {},
   "outputs": [],
   "source": [
    "class Book:\n",
    "    def __init__(self,title,author,isbn,publication_year,available_copies):\n",
    "        self.title = title\n",
    "        self.author = author\n",
    "        self.isbn = isbn\n",
    "        self.publication_year = publication_year\n",
    "        self.available_copies = max(0,available_copies)\n",
    "\n",
    "    def check_out(self):\n",
    "        if self.available_copies > 0:\n",
    "            self.available_copies -= 1\n",
    "        else:\n",
    "            print(\"Book not avaliable !!! \")\n",
    "            \n",
    "    def return_book(self):\n",
    "       self.available_copies += 1\n",
    "        \n",
    "    def display_book_info(self):\n",
    "        dis_info = print(f\"The book '{self.title}', authored by {self.author}, has ISBN {self.isbn}. It was published in {self.publication_year} and currently has {self.available_copies} available copies.\")\n",
    "        return dis_info"
   ]
  },
  {
   "cell_type": "code",
   "execution_count": 70,
   "id": "b3a27729-483a-4927-9718-9d8260ecc2ac",
   "metadata": {},
   "outputs": [],
   "source": [
    "# Creating multiple book objects\n",
    "book1 = Book(\"Python Programming\", \"John Doe\", \"1234567890\", 2022, 2)\n",
    "book2 = Book(\"Machine Learning Basics\", \"Jane Smith\", \"0987654321\", 2021, 3)\n",
    "book3 = Book(\"Deep Learning with Python\", \"Andrew Ng\", \"5678901234\", 2020, 1)"
   ]
  },
  {
   "cell_type": "code",
   "execution_count": 72,
   "id": "f712071c-41ba-464a-860e-38a4c567b639",
   "metadata": {},
   "outputs": [
    {
     "name": "stdout",
     "output_type": "stream",
     "text": [
      "Before check out 2\n",
      "After check out 1\n"
     ]
    }
   ],
   "source": [
    "# First Check out when we have 2 copies of book 1\n",
    "print(f'Before check out',book1.available_copies)\n",
    "book1.check_out()\n",
    "print(f'After check out',book1.available_copies)"
   ]
  },
  {
   "cell_type": "code",
   "execution_count": 73,
   "id": "6be343c9-f352-46fe-8f04-40dbc74b5ce8",
   "metadata": {},
   "outputs": [
    {
     "name": "stdout",
     "output_type": "stream",
     "text": [
      "Before check out 1\n",
      "After check out 0\n"
     ]
    }
   ],
   "source": [
    "# Second Check out when we have 1 copies of book 1\n",
    "print(f'Before check out',book1.available_copies)\n",
    "book1.check_out()\n",
    "print(f'After check out',book1.available_copies)"
   ]
  },
  {
   "cell_type": "code",
   "execution_count": 76,
   "id": "d98bbc17-6d27-4436-8f1b-7a7e7c50a0ff",
   "metadata": {},
   "outputs": [
    {
     "name": "stdout",
     "output_type": "stream",
     "text": [
      "Before check out 0\n",
      "Book not avaliable !!! \n",
      "After check out 0\n"
     ]
    }
   ],
   "source": [
    "print(f'Before check out',book1.available_copies)\n",
    "book1.check_out()\n",
    "print(f'After check out',book1.available_copies)"
   ]
  },
  {
   "cell_type": "code",
   "execution_count": 80,
   "id": "e93e7a2a-33c9-4bcf-85eb-c89f12d3c28c",
   "metadata": {},
   "outputs": [
    {
     "name": "stdout",
     "output_type": "stream",
     "text": [
      "The count of book2 before return 3\n",
      "The count of book2 after return 4\n"
     ]
    }
   ],
   "source": [
    "print(f'The count of book2 before return',book2.available_copies)\n",
    "book2.return_book()\n",
    "print(f'The count of book2 after return',book2.available_copies)"
   ]
  },
  {
   "cell_type": "code",
   "execution_count": 78,
   "id": "7c32531d-f885-494d-981f-eaa552eed778",
   "metadata": {},
   "outputs": [
    {
     "name": "stdout",
     "output_type": "stream",
     "text": [
      "The book 'Python Programming', authored by John Doe, has ISBN 1234567890. It was published in 2022 and currently has 0 available copies.\n"
     ]
    }
   ],
   "source": [
    "book1.display_book_info()"
   ]
  },
  {
   "cell_type": "markdown",
   "id": "b5d34748-61cf-44e0-a7ec-4e3820690934",
   "metadata": {},
   "source": [
    "Q8) For a ticket booking system, you have to design the \"Ticket\" class with OOP\n",
    "principles in mind. The “Ticket” class should have the following attributes:\n",
    "a. ticket_id: Represents the unique identifier for the ticket.\n",
    "b. event_name: Represents the name of the event.\n",
    "c. event_date: Represents the date of the event.\n",
    "d. venue: Represents the venue of the event.\n",
    "e. seat_number: Represents the seat number associated with the ticket.\n",
    "f. price: Represents the price of the ticket.\n",
    "g. is_reserved: Represents the reservation status of the ticket.\n",
    "The class also includes the following methods:\n",
    "a. reserve_ticket(self): Marks the ticket as reserved if it is not already reserved.\n",
    "b. cancel_reservation(self): Cancels the reservation of the ticket if it is already\n",
    "reserved.\n",
    "c. display_ticket_info(self): Displays the information about the ticket, including its\n",
    "attributes and reservation status."
   ]
  },
  {
   "cell_type": "code",
   "execution_count": 165,
   "id": "e0a60d68-ae8b-4c1d-bdb9-fc3bb883fc6d",
   "metadata": {},
   "outputs": [],
   "source": [
    "class Ticket:\n",
    "    def __init__(self, ticket_id, event_name, venue, seat_number, price, is_reserved=False):\n",
    "        self.ticket_id = ticket_id  \n",
    "        self.event_name = event_name\n",
    "        self.venue = venue\n",
    "        self.seat_number = seat_number\n",
    "        self.price = price\n",
    "        self.is_reserved = is_reserved  \n",
    "\n",
    "    def reserve_ticket(self):\n",
    "        if self.is_reserved:\n",
    "            print(f\"Your ticket {self.ticket_id} is already confirmed.\")\n",
    "        else:\n",
    "            self.is_reserved = True  # Updating reservation status\n",
    "            print(f\"Your ticket {self.ticket_id} has been successfully reserved.\")\n",
    "\n",
    "    def cancel_ticket(self):\n",
    "        if self.is_reserved:\n",
    "            self.is_reserved = False  # Changing reservation status to False\n",
    "            print(f\"Reservation for Ticket {self.ticket_id} has been canceled.\")\n",
    "        else:\n",
    "            print(f\"Ticket {self.ticket_id} was not reserved.\")\n",
    "\n",
    "    def display_ticket_info(self):\n",
    "        status = \"Reserved\" if self.is_reserved else \"Not reserved/ Cancled\"\n",
    "        return print(f'Your ticket id is {self.ticket_id} for event {self.event_name} at {self.venue}. Your seat number is {self.seat_number} you paid price of {self.price} dollar, current status is {status}')\n",
    "        \n"
   ]
  },
  {
   "cell_type": "code",
   "execution_count": 167,
   "id": "2231de89-afff-4dcb-b6a9-92d9b414f21a",
   "metadata": {},
   "outputs": [],
   "source": [
    "ticket2 = Ticket(102, \"Theater Play\", \"Grand Hall\", \"B5\", 30.0, is_reserved=True)"
   ]
  },
  {
   "cell_type": "code",
   "execution_count": 169,
   "id": "d40465bb-cfe5-4324-a81c-8b9a2aaddff4",
   "metadata": {},
   "outputs": [
    {
     "name": "stdout",
     "output_type": "stream",
     "text": [
      "Your ticket id is 102 for event Theater Play at Grand Hall. Your seat number is B5 you paid price of 30.0 dollar, current status is Reserved\n"
     ]
    }
   ],
   "source": [
    "ticket2.display_ticket_info()"
   ]
  },
  {
   "cell_type": "code",
   "execution_count": 171,
   "id": "fedbdf32-c18e-4092-a0ef-66fc6d9a5a75",
   "metadata": {},
   "outputs": [
    {
     "name": "stdout",
     "output_type": "stream",
     "text": [
      "Reservation for Ticket 102 has been canceled.\n",
      "Your ticket id is 102 for event Theater Play at Grand Hall. Your seat number is B5 you paid price of 30.0 dollar, current status is Not reserved/ Cancled\n"
     ]
    }
   ],
   "source": [
    "ticket2.cancel_ticket()\n",
    "ticket2.display_ticket_info()"
   ]
  },
  {
   "cell_type": "markdown",
   "id": "cefefe1b-3879-45a2-9500-fe4e9d5f87e7",
   "metadata": {},
   "source": [
    "Q9) You are creating a shopping cart for an e-commerce website. Using OOP to model\n",
    "the \"ShoppingCart\" functionality the class should contain following attributes and\n",
    "methods:\n",
    "a. items: Represents the list of items in the shopping cart.\n",
    "The class also includes the following methods:a. add_item(self, item): Adds an item to the shopping cart by appending it to the\n",
    "list of items.\n",
    "b. remove_item(self, item): Removes an item from the shopping cart if it exists in\n",
    "the list.\n",
    "c. view_cart(self): Displays the items currently present in the shopping cart.\n",
    "d. clear_cart(self): Clears all items from the shopping cart by reassigning an\n",
    "empty list to the items attribute."
   ]
  },
  {
   "cell_type": "code",
   "execution_count": 213,
   "id": "beed3955-72d8-410a-abb7-bb2f6f1cda4f",
   "metadata": {},
   "outputs": [],
   "source": [
    "class ShoppingCart:\n",
    "    def __init__(self,items=None):\n",
    "        self.items = items if  items else []\n",
    "\n",
    "    def add_item(self,item):\n",
    "        self.items.append(item)\n",
    "        print(f'Item {item} added to Cart')\n",
    "        \n",
    "    def remove_item(self,item):\n",
    "        if item in self.items:\n",
    "            self.items.remove(item)\n",
    "            print(f'Item {item} has been removed')\n",
    "        else:\n",
    "            print(f'Item \"{item}\" not found in the cart.')\n",
    "\n",
    "    def view_cart(self):\n",
    "        print(f'Items in cart are',self.items)\n",
    "\n",
    "    def clear_cart(self):\n",
    "        self.items.clear()\n",
    "        print(\"Cart has been cleared \",self.items)\n",
    "    "
   ]
  },
  {
   "cell_type": "code",
   "execution_count": 215,
   "id": "e7ec755a-060a-485d-b1e0-038d2890ed5a",
   "metadata": {},
   "outputs": [
    {
     "name": "stdout",
     "output_type": "stream",
     "text": [
      "Item Laptop added to Cart\n",
      "Item Phone added to Cart\n"
     ]
    }
   ],
   "source": [
    "cart1 = ShoppingCart()\n",
    "cart1.add_item(\"Laptop\")\n",
    "cart1.add_item(\"Phone\")"
   ]
  },
  {
   "cell_type": "code",
   "execution_count": 217,
   "id": "a98d7ebe-ef5f-4246-a7d2-8172e29dced1",
   "metadata": {},
   "outputs": [
    {
     "name": "stdout",
     "output_type": "stream",
     "text": [
      "Item Laptop has been removed\n"
     ]
    }
   ],
   "source": [
    "cart1.remove_item(\"Laptop\")"
   ]
  },
  {
   "cell_type": "code",
   "execution_count": 219,
   "id": "54b9260c-1615-47ed-92e2-3c369549287b",
   "metadata": {},
   "outputs": [
    {
     "name": "stdout",
     "output_type": "stream",
     "text": [
      "Items in cart are ['Phone']\n"
     ]
    }
   ],
   "source": [
    "cart1.view_cart()"
   ]
  },
  {
   "cell_type": "code",
   "execution_count": 221,
   "id": "721db24d-3402-4699-9d98-750b962b9d52",
   "metadata": {},
   "outputs": [
    {
     "name": "stdout",
     "output_type": "stream",
     "text": [
      "Cart has been cleared  []\n"
     ]
    }
   ],
   "source": [
    "cart1.clear_cart()"
   ]
  },
  {
   "cell_type": "markdown",
   "id": "79a41f1f-7f15-4bc9-9d20-e5355089363d",
   "metadata": {},
   "source": [
    "Q10) Imagine a school management system. You have to design the \"Student\" class using\n",
    "OOP concepts.The “Student” class has the following attributes:\n",
    "a. name: Represents the name of the student.\n",
    "b. age: Represents the age of the student.\n",
    "c. grade: Represents the grade or class of the student.\n",
    "d. student_id: Represents the unique identifier for the student.\n",
    "e. attendance: Represents the attendance record of the student.\n",
    "The class should also include the following methods:\n",
    "a. update_attendance(self, date, status): Updates the attendance record of the\n",
    "student for a given date with the provided status (e.g., present or absent).\n",
    "b. get_attendance(self): Returns the attendance record of the student.\n",
    "c. get_average_attendance(self): Calculates and returns the average\n",
    "attendance percentage of the student based on their attendance record."
   ]
  },
  {
   "cell_type": "code",
   "execution_count": 246,
   "id": "5798fc9a-a9ac-48e0-a024-0d1619e92eca",
   "metadata": {},
   "outputs": [],
   "source": [
    "class Student:\n",
    "    def __init__(self,name,age,grade,student_id):\n",
    "        self.name =name\n",
    "        self.age = age\n",
    "        self.grade = grade\n",
    "        self.student_id = student_id \n",
    "        self.attendance = {}\n",
    "\n",
    "    def update_attendance(self,date,status):\n",
    "        if status.lower() in [\"present\",\"absent\"]:\n",
    "            self.attendance[date] = status.capitalize()\n",
    "            print(f\"Attendance updated for {self.name} on {date}: {status.capitalize()}\")\n",
    "        else:\n",
    "            print(\"Invalid status! Use 'Present' or 'Absent'.\")\n",
    "    \n",
    "\n",
    "    def get_attendance(self):\n",
    "        return self.attendance\n",
    "    \n",
    "    def get_average_attendance(self):\n",
    "        present_days = 0\n",
    "        if not self.attendance: \n",
    "            return 0\n",
    "        total_days = len(self.attendance)\n",
    "        for status in self.attendance.values():\n",
    "            if status == \"Present\":\n",
    "                present_days +=1\n",
    "        return (present_days / total_days) * 100 \n",
    "            \n",
    "\n",
    "        "
   ]
  },
  {
   "cell_type": "code",
   "execution_count": 248,
   "id": "48cd2212-bb43-4e39-9cba-1d7c6e503bb8",
   "metadata": {},
   "outputs": [
    {
     "name": "stdout",
     "output_type": "stream",
     "text": [
      "Attendance updated for John Doe on 2025-03-10: Present\n",
      "Attendance updated for John Doe on 2025-03-11: Absent\n",
      "Attendance updated for John Doe on 2025-03-12: Present\n"
     ]
    }
   ],
   "source": [
    "student1 = Student(\"John Doe\", 16, \"10th Grade\", 101)\n",
    "student1.update_attendance(\"2025-03-10\", \"Present\")\n",
    "student1.update_attendance(\"2025-03-11\", \"Absent\")\n",
    "student1.update_attendance(\"2025-03-12\", \"Present\")"
   ]
  },
  {
   "cell_type": "code",
   "execution_count": 252,
   "id": "28cd75dc-5b42-457d-aa22-199f3fb4eeff",
   "metadata": {},
   "outputs": [
    {
     "data": {
      "text/plain": [
       "66.66666666666666"
      ]
     },
     "execution_count": 252,
     "metadata": {},
     "output_type": "execute_result"
    }
   ],
   "source": [
    "student1.get_average_attendance()"
   ]
  },
  {
   "cell_type": "code",
   "execution_count": null,
   "id": "4c093afc-5a2c-47a5-8d83-97cf46522bb5",
   "metadata": {},
   "outputs": [],
   "source": []
  }
 ],
 "metadata": {
  "kernelspec": {
   "display_name": "Python [conda env:base] *",
   "language": "python",
   "name": "conda-base-py"
  },
  "language_info": {
   "codemirror_mode": {
    "name": "ipython",
    "version": 3
   },
   "file_extension": ".py",
   "mimetype": "text/x-python",
   "name": "python",
   "nbconvert_exporter": "python",
   "pygments_lexer": "ipython3",
   "version": "3.12.7"
  }
 },
 "nbformat": 4,
 "nbformat_minor": 5
}
